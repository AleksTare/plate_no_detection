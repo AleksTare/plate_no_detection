{
 "cells": [
  {
   "cell_type": "markdown",
   "metadata": {
    "colab_type": "text",
    "id": "Tr7mV719oqHH"
   },
   "source": [
    "# Part 1: Training"
   ]
  },
  {
   "cell_type": "code",
   "execution_count": null,
   "metadata": {
    "colab": {
     "base_uri": "https://localhost:8080/",
     "height": 66
    },
    "colab_type": "code",
    "executionInfo": {
     "elapsed": 2980,
     "status": "ok",
     "timestamp": 1600845249284,
     "user": {
      "displayName": "vehicle PN detection",
      "photoUrl": "",
      "userId": "10551425458833828037"
     },
     "user_tz": -120
    },
    "id": "Gm1hHc1hj5I5",
    "outputId": "28347b89-a7e4-48c2-ecd9-2a2b79118543"
   },
   "outputs": [],
   "source": [
    "from google.colab import drive\n",
    "drive.mount('/content/drive')\n",
    "%tensorflow_version 1.x"
   ]
  },
  {
   "cell_type": "code",
   "execution_count": null,
   "metadata": {
    "colab": {
     "base_uri": "https://localhost:8080/",
     "height": 46
    },
    "colab_type": "code",
    "executionInfo": {
     "elapsed": 3828,
     "status": "ok",
     "timestamp": 1600845250228,
     "user": {
      "displayName": "vehicle PN detection",
      "photoUrl": "",
      "userId": "10551425458833828037"
     },
     "user_tz": -120
    },
    "id": "tBerng1rjnjB",
    "outputId": "48e7518d-2bb8-4e10-db09-7be843f09ce6"
   },
   "outputs": [],
   "source": [
    "import tensorflow as tf\n",
    "device_name = tf.test.gpu_device_name()\n",
    "if device_name != '/device:GPU:0':\n",
    "   raise SystemError('GPU device not found')\n",
    "print('Found GPU at: {}'.format(device_name))\n",
    "print(tf.__version__)"
   ]
  },
  {
   "cell_type": "code",
   "execution_count": null,
   "metadata": {
    "colab": {
     "base_uri": "https://localhost:8080/",
     "height": 31
    },
    "colab_type": "code",
    "executionInfo": {
     "elapsed": 3761,
     "status": "ok",
     "timestamp": 1600845250235,
     "user": {
      "displayName": "vehicle PN detection",
      "photoUrl": "",
      "userId": "10551425458833828037"
     },
     "user_tz": -120
    },
    "id": "XfqZAo4pkAIH",
    "outputId": "f2024a57-43ce-4e9a-b98f-0ee6abf7dba6"
   },
   "outputs": [],
   "source": [
    "%cd '/content/drive/My Drive/inception/'\n",
    "#!git clone https://github.com/tensorflow/models.git"
   ]
  },
  {
   "cell_type": "code",
   "execution_count": null,
   "metadata": {
    "colab": {
     "base_uri": "https://localhost:8080/",
     "height": 211
    },
    "colab_type": "code",
    "executionInfo": {
     "elapsed": 11111,
     "status": "ok",
     "timestamp": 1600845257684,
     "user": {
      "displayName": "vehicle PN detection",
      "photoUrl": "",
      "userId": "10551425458833828037"
     },
     "user_tz": -120
    },
    "id": "Swh4hHClkask",
    "outputId": "21096a9e-532e-418c-ac13-22e9bbc9f3ea"
   },
   "outputs": [],
   "source": [
    "!apt-get install protobuf-compiler python-pil python-lxml python-tk\n",
    "!pip install Cython\n",
    "!pip install tf_slim"
   ]
  },
  {
   "cell_type": "code",
   "execution_count": null,
   "metadata": {
    "colab": {
     "base_uri": "https://localhost:8080/",
     "height": 31
    },
    "colab_type": "code",
    "executionInfo": {
     "elapsed": 11354,
     "status": "ok",
     "timestamp": 1600845258021,
     "user": {
      "displayName": "vehicle PN detection",
      "photoUrl": "",
      "userId": "10551425458833828037"
     },
     "user_tz": -120
    },
    "id": "uCjyHXJ5l89d",
    "outputId": "e8939863-b72d-42c7-b05f-b17fbfa562e8"
   },
   "outputs": [],
   "source": [
    "%cd /content/drive/My Drive/inception/models/research/\n",
    "!protoc object_detection/protos/*.proto --python_out=."
   ]
  },
  {
   "cell_type": "code",
   "execution_count": null,
   "metadata": {
    "colab": {},
    "colab_type": "code",
    "executionInfo": {
     "elapsed": 11345,
     "status": "ok",
     "timestamp": 1600845258030,
     "user": {
      "displayName": "vehicle PN detection",
      "photoUrl": "",
      "userId": "10551425458833828037"
     },
     "user_tz": -120
    },
    "id": "3cm4UWghkjge"
   },
   "outputs": [],
   "source": [
    "import os\n",
    "os.environ['PYTHONPATH'] += ':/content/drive/My Drive/inception_test/models/research/:/content/drive/My Drive/inception_test/models/research/slim'"
   ]
  },
  {
   "cell_type": "code",
   "execution_count": null,
   "metadata": {
    "colab": {
     "base_uri": "https://localhost:8080/",
     "height": 1000
    },
    "colab_type": "code",
    "executionInfo": {
     "elapsed": 60757,
     "status": "ok",
     "timestamp": 1600845307519,
     "user": {
      "displayName": "vehicle PN detection",
      "photoUrl": "",
      "userId": "10551425458833828037"
     },
     "user_tz": -120
    },
    "id": "YdHCc0UVrQJj",
    "outputId": "73e8cdf8-e0ed-45d3-8b7c-4b9ad28d3feb"
   },
   "outputs": [],
   "source": [
    "%cd /content/drive/My Drive/inception/models/research\n",
    "!python setup.py build\n",
    "!python setup.py install"
   ]
  },
  {
   "cell_type": "code",
   "execution_count": null,
   "metadata": {
    "colab": {
     "base_uri": "https://localhost:8080/",
     "height": 1000
    },
    "colab_type": "code",
    "executionInfo": {
     "elapsed": 68679,
     "status": "ok",
     "timestamp": 1600845315527,
     "user": {
      "displayName": "vehicle PN detection",
      "photoUrl": "",
      "userId": "10551425458833828037"
     },
     "user_tz": -120
    },
    "id": "MGk1kqOnksdu",
    "outputId": "379d665a-e2b3-4a0d-e422-d8bbae4faf38"
   },
   "outputs": [],
   "source": [
    "%cd /content/drive/My Drive/inception/models/research/slim\n",
    "!python setup.py build\n",
    "!python setup.py install"
   ]
  },
  {
   "cell_type": "code",
   "execution_count": null,
   "metadata": {
    "colab": {
     "base_uri": "https://localhost:8080/",
     "height": 31
    },
    "colab_type": "code",
    "executionInfo": {
     "elapsed": 68674,
     "status": "ok",
     "timestamp": 1600845315540,
     "user": {
      "displayName": "vehicle PN detection",
      "photoUrl": "",
      "userId": "10551425458833828037"
     },
     "user_tz": -120
    },
    "id": "RlohVNDvk3hX",
    "outputId": "555cb402-378e-4bb5-a279-8e8645747bec"
   },
   "outputs": [],
   "source": [
    "import time, psutil\n",
    "Start = time.time()- psutil.boot_time()\n",
    "Left= 12*3600 - Start\n",
    "print('Time remaining for this session is: ', Left/3600)"
   ]
  },
  {
   "cell_type": "code",
   "execution_count": null,
   "metadata": {
    "colab": {
     "base_uri": "https://localhost:8080/",
     "height": 51
    },
    "colab_type": "code",
    "executionInfo": {
     "elapsed": 73301,
     "status": "ok",
     "timestamp": 1600845320184,
     "user": {
      "displayName": "vehicle PN detection",
      "photoUrl": "",
      "userId": "10551425458833828037"
     },
     "user_tz": -120
    },
    "id": "FxI551wXk6OB",
    "outputId": "e06cceff-0163-4f57-d162-b76cb6310675"
   },
   "outputs": [],
   "source": [
    "%cd /content/drive/My Drive/inception/models/research/object_detection/builders/\n",
    "!python model_builder_test.py"
   ]
  },
  {
   "cell_type": "code",
   "execution_count": null,
   "metadata": {
    "colab": {
     "base_uri": "https://localhost:8080/",
     "height": 51
    },
    "colab_type": "code",
    "executionInfo": {
     "elapsed": 73292,
     "status": "ok",
     "timestamp": 1600845320192,
     "user": {
      "displayName": "vehicle PN detection",
      "photoUrl": "",
      "userId": "10551425458833828037"
     },
     "user_tz": -120
    },
    "id": "YHGBDyWF1CVB",
    "outputId": "837ec56e-5efe-423f-a435-5b55a0ffc5de"
   },
   "outputs": [],
   "source": [
    "%cd /content/drive/My Drive/inception/models/research/object_detection"
   ]
  },
  {
   "cell_type": "code",
   "execution_count": null,
   "metadata": {
    "colab": {
     "base_uri": "https://localhost:8080/",
     "height": 60
    },
    "colab_type": "code",
    "executionInfo": {
     "elapsed": 95176,
     "status": "ok",
     "timestamp": 1600845342094,
     "user": {
      "displayName": "vehicle PN detection",
      "photoUrl": "",
      "userId": "10551425458833828037"
     },
     "user_tz": -120
    },
    "id": "SG__QV7Jqyvt",
    "outputId": "22e7475d-6199-4d3b-808d-d5d6c29c11fb"
   },
   "outputs": [],
   "source": [
    "#!wget https://bin.equinox.io/c/4VmDzA7iaHb/ngrok-stable-linux-amd64.zip\n",
    "!unzip ngrok-stable-linux-amd64.zip"
   ]
  },
  {
   "cell_type": "code",
   "execution_count": null,
   "metadata": {
    "colab": {},
    "colab_type": "code",
    "executionInfo": {
     "elapsed": 95167,
     "status": "ok",
     "timestamp": 1600845342102,
     "user": {
      "displayName": "vehicle PN detection",
      "photoUrl": "",
      "userId": "10551425458833828037"
     },
     "user_tz": -120
    },
    "id": "1U5o1P1BQCDW"
   },
   "outputs": [],
   "source": [
    "LOG_DIR = 'PLATE_training_dir'\n",
    "LOG_DIR_2 = 'eval'\n",
    "get_ipython().system_raw(\n",
    "    'tensorboard --logdir {} --host 0.0.0.0 --port 6006 &'\n",
    "    .format(LOG_DIR) #changed to eval dir to see accuracies\n",
    ")"
   ]
  },
  {
   "cell_type": "code",
   "execution_count": null,
   "metadata": {
    "colab": {},
    "colab_type": "code",
    "executionInfo": {
     "elapsed": 95161,
     "status": "ok",
     "timestamp": 1600845342112,
     "user": {
      "displayName": "vehicle PN detection",
      "photoUrl": "",
      "userId": "10551425458833828037"
     },
     "user_tz": -120
    },
    "id": "lstCWgeAQNNz"
   },
   "outputs": [],
   "source": [
    "get_ipython().system_raw('./ngrok http 6006 &')"
   ]
  },
  {
   "cell_type": "code",
   "execution_count": null,
   "metadata": {
    "colab": {
     "base_uri": "https://localhost:8080/",
     "height": 196
    },
    "colab_type": "code",
    "executionInfo": {
     "elapsed": 95139,
     "status": "ok",
     "timestamp": 1600845342120,
     "user": {
      "displayName": "vehicle PN detection",
      "photoUrl": "",
      "userId": "10551425458833828037"
     },
     "user_tz": -120
    },
    "id": "Lc1nmqbjQQqS",
    "outputId": "39895731-9210-402c-c511-dc56159e143a"
   },
   "outputs": [],
   "source": [
    "! curl -s http://localhost:4040/api/tunnels | python3 -c \\\n",
    "    \"import sys, json; print(json.load(sys.stdin)['tunnels'][0]['public_url'])\""
   ]
  },
  {
   "cell_type": "code",
   "execution_count": null,
   "metadata": {
    "colab": {
     "base_uri": "https://localhost:8080/",
     "height": 1000
    },
    "colab_type": "code",
    "executionInfo": {
     "elapsed": 5141872,
     "status": "ok",
     "timestamp": 1599993163975,
     "user": {
      "displayName": "vehicle PN detection",
      "photoUrl": "",
      "userId": "10551425458833828037"
     },
     "user_tz": -120
    },
    "id": "emb5jPygmtDd",
    "outputId": "a44d8dcf-cab1-4e88-fe72-1866479e20f6"
   },
   "outputs": [],
   "source": [
    "!python train.py --logtostderr --train_dir=PLATE_training_dir/ --pipeline_config_path=PLATE_training/faster_rcnn_inception_v2_coco.config"
   ]
  },
  {
   "cell_type": "code",
   "execution_count": null,
   "metadata": {
    "colab": {},
    "colab_type": "code",
    "id": "bag2uxgQ4S6z"
   },
   "outputs": [],
   "source": [
    "!python export_inference_graph.py --input_type image_tensor --pipeline_config_path PLATE_training/faster_rcnn_inception_v2_coco.config --trained_checkpoint_prefix PLATE_training_dir/model.ckpt-200000 --output_directory PLATE_inference_graph"
   ]
  },
  {
   "cell_type": "markdown",
   "metadata": {
    "colab_type": "text",
    "id": "X_g9CbfT6fVl"
   },
   "source": [
    "# Part 2: Testing"
   ]
  },
  {
   "cell_type": "code",
   "execution_count": null,
   "metadata": {
    "colab": {
     "base_uri": "https://localhost:8080/",
     "height": 34
    },
    "colab_type": "code",
    "executionInfo": {
     "elapsed": 1624,
     "status": "ok",
     "timestamp": 1600091581259,
     "user": {
      "displayName": "vehicle PN detection",
      "photoUrl": "",
      "userId": "10551425458833828037"
     },
     "user_tz": -120
    },
    "id": "yXPUniic9b2d",
    "outputId": "a7a2b48d-f701-4670-e491-6d52bd626262"
   },
   "outputs": [],
   "source": [
    "from google.colab import drive\n",
    "drive.mount('/content/drive')\n",
    "%tensorflow_version 1.x"
   ]
  },
  {
   "cell_type": "code",
   "execution_count": null,
   "metadata": {
    "colab": {},
    "colab_type": "code",
    "id": "cGdnGqfV6Wyf"
   },
   "outputs": [],
   "source": [
    "# Imports\n",
    "import cv2\n",
    "import numpy as np\n",
    "import os\n",
    "import sys\n",
    "# run on CPU\n",
    "#os.environ['CUDA_VISIBLE_DEVICES'] = '-1'\n",
    "import tensorflow as tf\n",
    "from distutils.version import StrictVersion\n",
    "from collections import defaultdict\n",
    "import matplotlib.pyplot as plt\n",
    "from object_detection.utils import ops as utils_ops\n",
    "from object_detection.utils import label_map_util\n",
    "from object_detection.utils import visualization_utils as vis_util\n",
    "from google.colab.patches import cv2_imshow"
   ]
  },
  {
   "cell_type": "code",
   "execution_count": null,
   "metadata": {
    "colab": {},
    "colab_type": "code",
    "id": "FG0xpRYV6oEU"
   },
   "outputs": [],
   "source": [
    "# Model preparation \n",
    "PATH_TO_FROZEN_GRAPH = 'frozen_inference_graph.pb'\n",
    "# List of the strings that is used to add correct label for each box.\n",
    "PATH_TO_LABELS = 'PLATE_labelmap.pbtxt'\n",
    "NUM_CLASSES = 37"
   ]
  },
  {
   "cell_type": "code",
   "execution_count": null,
   "metadata": {
    "colab": {},
    "colab_type": "code",
    "id": "IcU_qp-c68MP"
   },
   "outputs": [],
   "source": [
    "%cd /content/drive/My Drive/inception/test/\n",
    "!ls"
   ]
  },
  {
   "cell_type": "code",
   "execution_count": null,
   "metadata": {
    "colab": {},
    "colab_type": "code",
    "id": "4qCe8s1_9YdX"
   },
   "outputs": [],
   "source": [
    "# Load a (frozen) Tensorflow model into memory.\n",
    "label_map = label_map_util.load_labelmap(PATH_TO_LABELS)\n",
    "categories = label_map_util.convert_label_map_to_categories(label_map, max_num_classes=NUM_CLASSES, use_display_name=True)\n",
    "category_index = label_map_util.create_category_index(categories)"
   ]
  },
  {
   "cell_type": "code",
   "execution_count": null,
   "metadata": {
    "colab": {},
    "colab_type": "code",
    "id": "izqMK6uj7axJ"
   },
   "outputs": [],
   "source": [
    "detection_graph = tf.Graph()\n",
    "with detection_graph.as_default():\n",
    "    od_graph_def = tf.GraphDef()\n",
    "    with tf.gfile.GFile(PATH_TO_FROZEN_GRAPH, 'rb') as fid:\n",
    "        serialized_graph = fid.read()\n",
    "        od_graph_def.ParseFromString(serialized_graph)\n",
    "        tf.import_graph_def(od_graph_def, name='')"
   ]
  },
  {
   "cell_type": "code",
   "execution_count": null,
   "metadata": {
    "colab": {},
    "colab_type": "code",
    "id": "zTnhUlaR7wFS"
   },
   "outputs": [],
   "source": [
    "# Detection\n",
    "def plate_detection(image):\n",
    "    with detection_graph.as_default():\n",
    "        with tf.Session(graph=detection_graph) as sess:\n",
    "            # Open image\n",
    "            image_np = cv2.imread(image)\n",
    "            #plt.imshow(image_np)\n",
    "            #plt.show()\n",
    "            # To get real color we do this:\n",
    "            image_np = cv2.cvtColor(image_np, cv2.COLOR_BGR2RGB)\n",
    "            # Expand dimensions since the model expects images to have shape: [1, None, None, 3]\n",
    "            image_np_expanded = np.expand_dims(image_np, axis=0)\n",
    "            # Actual detection.\n",
    "            image_tensor = detection_graph.get_tensor_by_name('image_tensor:0')\n",
    "            boxes = detection_graph.get_tensor_by_name('detection_boxes:0')\n",
    "            scores = detection_graph.get_tensor_by_name('detection_scores:0')\n",
    "            classes = detection_graph.get_tensor_by_name('detection_classes:0')\n",
    "            num_detections = detection_graph.get_tensor_by_name('num_detections:0')\n",
    "            # Visualization of the results of a detection.\n",
    "            (boxes, scores, classes, num_detections) = sess.run(\n",
    "              [boxes, scores, classes, num_detections],\n",
    "              feed_dict={image_tensor: image_np_expanded})\n",
    "            vis_util.visualize_boxes_and_labels_on_image_array(\n",
    "              image_np,\n",
    "              np.squeeze(boxes),\n",
    "              np.squeeze(classes).astype(np.int32),\n",
    "              np.squeeze(scores),\n",
    "              category_index,\n",
    "              use_normalized_coordinates=True,\n",
    "              line_thickness=1,\n",
    "              skip_scores=False)\n",
    "            # Show image with detection\n",
    "            cv2_imshow(cv2.cvtColor(image_np, cv2.COLOR_BGR2RGB))\n",
    "            # Save image with detection\n",
    "            #cv2.imwrite(\"Predicted_captcha.jpg\", cv2.cvtColor(image_np, cv2.COLOR_BGR2RGB))"
   ]
  },
  {
   "cell_type": "code",
   "execution_count": null,
   "metadata": {
    "colab": {},
    "colab_type": "code",
    "id": "UspFJWyZ70tt"
   },
   "outputs": [],
   "source": [
    "plate_detection(\"AA818.jpg\")  "
   ]
  },
  {
   "cell_type": "code",
   "execution_count": null,
   "metadata": {
    "colab": {},
    "colab_type": "code",
    "id": "z0Cwtd2SyLEu"
   },
   "outputs": [],
   "source": [
    "%cd /content/drive/My Drive/inception/models/research/object_detection\n",
    "!python eval.py \\\n",
    "    --logtostderr \\\n",
    "    --pipeline_config_path=PLATE_training/faster_rcnn_inception_v2_coco.config \\\n",
    "    --checkpoint_dir=PLATE_training_dir/ \\\n",
    "    --eval_dir=eval/"
   ]
  }
 ],
 "metadata": {
  "accelerator": "GPU",
  "colab": {
   "collapsed_sections": [],
   "name": "faster_rcnn_inception.ipynb",
   "provenance": []
  },
  "kernelspec": {
   "display_name": "Python 3",
   "language": "python",
   "name": "python3"
  },
  "language_info": {
   "codemirror_mode": {
    "name": "ipython",
    "version": 3
   },
   "file_extension": ".py",
   "mimetype": "text/x-python",
   "name": "python",
   "nbconvert_exporter": "python",
   "pygments_lexer": "ipython3",
   "version": "3.8.8"
  }
 },
 "nbformat": 4,
 "nbformat_minor": 1
}